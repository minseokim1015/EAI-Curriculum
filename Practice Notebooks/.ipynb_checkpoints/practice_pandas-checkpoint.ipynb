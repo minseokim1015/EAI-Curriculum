{
 "cells": [
  {
   "cell_type": "markdown",
   "metadata": {
    "collapsed": true
   },
   "source": [
    "## What is Pandas?\n",
    "\n",
    "Pandas plays nicely with Numpy, making a nice transition from previous work with n-shaped arrays. In this notebook we will be two structures for combining data: Series and DataFrames.\n",
    "\n",
    "In this notebook, we are offering just a glimpse into Pandas before moving on to application in an example. It's worth learning more outside of lab: if you've only got 10min, go [here](https://pandas.pydata.org/docs/getting_started/10min.html); otherwise check out the learning [options](https://pandas.pydata.org/docs/getting_started/intro_tutorials/index.html). Much of this can be learned piecemeal through practical experience cleaning and pre-processing data."
   ]
  },
  {
   "cell_type": "markdown",
   "metadata": {},
   "source": [
    "### Building a data structure: starting with [Series](https://pandas.pydata.org/docs/reference/api/pandas.Series.html?highlight=series#pandas.Series)"
   ]
  },
  {
   "cell_type": "code",
   "execution_count": null,
   "metadata": {},
   "outputs": [],
   "source": [
    "# First import libraries\n",
    "\n",
    "import numpy as np\n",
    "import pandas as pd"
   ]
  },
  {
   "cell_type": "code",
   "execution_count": null,
   "metadata": {},
   "outputs": [],
   "source": [
    "# Scenario 1: Rustle up some simple key-value mock data\n",
    "keys = ['rad', 'bad', 'sad', 'mad', 'fad']\n",
    "values = np.random.randint(1, 11, len(keys))\n",
    "\n",
    "# Connect with pandas Series(data=None, index=None, dtype=None, name=None, copy=False, fastpath=False)\n",
    "data_auto_i = pd.Series(values)\n",
    "print('Auto increment:')\n",
    "print(data_auto_i)\n",
    "data_manu_i = pd.Series(values, keys)\n",
    "print('\\nManual increment:')\n",
    "print(data_manu_i)"
   ]
  },
  {
   "cell_type": "code",
   "execution_count": null,
   "metadata": {},
   "outputs": [],
   "source": [
    "# Find particular value by index/key\n",
    "\n",
    "print(data_auto_i[2])\n",
    "print(data_manu_i['sad'])"
   ]
  },
  {
   "cell_type": "code",
   "execution_count": null,
   "metadata": {
    "pycharm": {
     "name": "#%%\n"
    }
   },
   "outputs": [],
   "source": [
    "# Scenario 2: Rustle up data using dictionaries\n",
    "\n",
    "arr_dicts = [\n",
    "    {'name': 'Zona', 'color': 'red', 'intensity': np.random.randint(0, 256)},\n",
    "    {'name': 'Aleksander', 'color': 'green', 'intensity': np.random.randint(0, 256)},\n",
    "    {'name': 'Fred', 'color': 'blue', 'intensity': np.random.randint(0, 256)},\n",
    "    {'name': 'Brian', 'color': 'cyan', 'intensity': np.random.randint(0, 256)},\n",
    "    {'name': 'Jared', 'color': 'magenta', 'intensity:': np.random.randint(0, 256)}\n",
    "]\n",
    "teamdata1 = pd.Series(arr_dicts)\n",
    "teamdata1"
   ]
  },
  {
   "cell_type": "code",
   "execution_count": null,
   "metadata": {},
   "outputs": [],
   "source": []
  },
  {
   "cell_type": "markdown",
   "metadata": {},
   "source": [
    "### Excel-esque with [Dataframes](https://pandas.pydata.org/docs/reference/api/pandas.DataFrame.html?highlight=dataframe#pandas.DataFrame)"
   ]
  },
  {
   "cell_type": "code",
   "execution_count": null,
   "metadata": {},
   "outputs": [],
   "source": [
    "# Some extractions\n",
    "rows = np.array(['1', '2', '3'])\n",
    "cols = np.array(['a', 'b', 'c', 'd', 'e'])\n",
    "\n",
    "# To random Dataframe\n",
    "dataframe = pd.DataFrame(np.random.randint(1, 101, (len(rows), len(cols))), rows, cols)\n",
    "dataframe"
   ]
  },
  {
   "cell_type": "code",
   "execution_count": null,
   "metadata": {},
   "outputs": [],
   "source": [
    "# Grab a col\n",
    "\n",
    "print('COL:')\n",
    "print(dataframe['c'])\n",
    "\n",
    "# Grab a row\n",
    "print( dataframe.iloc[1])\n",
    "\n",
    "# Grab a number of rows\n",
    "print( dataframe[:2] )\n",
    "\n",
    "# Grab a value\n",
    "\n",
    "print('\\nPOS:')\n",
    "print(dataframe['c']['2'])"
   ]
  },
  {
   "cell_type": "code",
   "execution_count": null,
   "metadata": {},
   "outputs": [],
   "source": [
    "# !!!YOUR TURN!!!\n",
    "\n",
    "# Slicing! Grab the first 2 rows and first 2 cols from dataframe\n",
    "# https://pandas.pydata.org/pandas-docs/stable/user_guide/indexing.html"
   ]
  },
  {
   "cell_type": "code",
   "execution_count": null,
   "metadata": {},
   "outputs": [],
   "source": []
  },
  {
   "cell_type": "markdown",
   "metadata": {},
   "source": []
  }
 ],
 "metadata": {
  "kernelspec": {
   "display_name": "Python 3 (ipykernel)",
   "language": "python",
   "name": "python3"
  },
  "language_info": {
   "codemirror_mode": {
    "name": "ipython",
    "version": 3
   },
   "file_extension": ".py",
   "mimetype": "text/x-python",
   "name": "python",
   "nbconvert_exporter": "python",
   "pygments_lexer": "ipython3",
   "version": "3.8.9"
  }
 },
 "nbformat": 4,
 "nbformat_minor": 1
}
